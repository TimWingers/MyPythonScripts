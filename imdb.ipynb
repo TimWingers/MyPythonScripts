{
  "nbformat": 4,
  "nbformat_minor": 0,
  "metadata": {
    "colab": {
      "provenance": [],
      "authorship_tag": "ABX9TyMKTKEm2PScFSFx/zaKprN+",
      "include_colab_link": true
    },
    "kernelspec": {
      "name": "python3",
      "display_name": "Python 3"
    },
    "language_info": {
      "name": "python"
    },
    "widgets": {
      "application/vnd.jupyter.widget-state+json": {
        "5440d6d914cd4790983f0cb2344ba91a": {
          "model_module": "@jupyter-widgets/controls",
          "model_name": "TextareaModel",
          "model_module_version": "1.5.0",
          "state": {
            "_dom_classes": [],
            "_model_module": "@jupyter-widgets/controls",
            "_model_module_version": "1.5.0",
            "_model_name": "TextareaModel",
            "_view_count": null,
            "_view_module": "@jupyter-widgets/controls",
            "_view_module_version": "1.5.0",
            "_view_name": "TextareaView",
            "continuous_update": true,
            "description": "Отзыв о фильме:",
            "description_tooltip": null,
            "disabled": false,
            "layout": "IPY_MODEL_4ed30074340e44e381eea08b16439c2d",
            "placeholder": "​",
            "rows": 5,
            "style": "IPY_MODEL_52e24246a37b4f5d80f1ad17b4463b8b",
            "value": "This was really a very bad movie"
          }
        },
        "4ed30074340e44e381eea08b16439c2d": {
          "model_module": "@jupyter-widgets/base",
          "model_name": "LayoutModel",
          "model_module_version": "1.2.0",
          "state": {
            "_model_module": "@jupyter-widgets/base",
            "_model_module_version": "1.2.0",
            "_model_name": "LayoutModel",
            "_view_count": null,
            "_view_module": "@jupyter-widgets/base",
            "_view_module_version": "1.2.0",
            "_view_name": "LayoutView",
            "align_content": null,
            "align_items": null,
            "align_self": null,
            "border": null,
            "bottom": null,
            "display": null,
            "flex": null,
            "flex_flow": null,
            "grid_area": null,
            "grid_auto_columns": null,
            "grid_auto_flow": null,
            "grid_auto_rows": null,
            "grid_column": null,
            "grid_gap": null,
            "grid_row": null,
            "grid_template_areas": null,
            "grid_template_columns": null,
            "grid_template_rows": null,
            "height": null,
            "justify_content": null,
            "justify_items": null,
            "left": null,
            "margin": null,
            "max_height": null,
            "max_width": null,
            "min_height": null,
            "min_width": null,
            "object_fit": null,
            "object_position": null,
            "order": null,
            "overflow": null,
            "overflow_x": null,
            "overflow_y": null,
            "padding": null,
            "right": null,
            "top": null,
            "visibility": null,
            "width": null
          }
        },
        "52e24246a37b4f5d80f1ad17b4463b8b": {
          "model_module": "@jupyter-widgets/controls",
          "model_name": "DescriptionStyleModel",
          "model_module_version": "1.5.0",
          "state": {
            "_model_module": "@jupyter-widgets/controls",
            "_model_module_version": "1.5.0",
            "_model_name": "DescriptionStyleModel",
            "_view_count": null,
            "_view_module": "@jupyter-widgets/base",
            "_view_module_version": "1.2.0",
            "_view_name": "StyleView",
            "description_width": ""
          }
        },
        "664d745f77cb41d3ab20dca5ef2d2dea": {
          "model_module": "@jupyter-widgets/controls",
          "model_name": "ButtonModel",
          "model_module_version": "1.5.0",
          "state": {
            "_dom_classes": [],
            "_model_module": "@jupyter-widgets/controls",
            "_model_module_version": "1.5.0",
            "_model_name": "ButtonModel",
            "_view_count": null,
            "_view_module": "@jupyter-widgets/controls",
            "_view_module_version": "1.5.0",
            "_view_name": "ButtonView",
            "button_style": "",
            "description": "Предсказать рейтинг",
            "disabled": false,
            "icon": "",
            "layout": "IPY_MODEL_212871c94d4a4deba9ab82cc950c298a",
            "style": "IPY_MODEL_72246a3779b441e3a25ec1d8c8d47e3f",
            "tooltip": ""
          }
        },
        "212871c94d4a4deba9ab82cc950c298a": {
          "model_module": "@jupyter-widgets/base",
          "model_name": "LayoutModel",
          "model_module_version": "1.2.0",
          "state": {
            "_model_module": "@jupyter-widgets/base",
            "_model_module_version": "1.2.0",
            "_model_name": "LayoutModel",
            "_view_count": null,
            "_view_module": "@jupyter-widgets/base",
            "_view_module_version": "1.2.0",
            "_view_name": "LayoutView",
            "align_content": null,
            "align_items": null,
            "align_self": null,
            "border": null,
            "bottom": null,
            "display": null,
            "flex": null,
            "flex_flow": null,
            "grid_area": null,
            "grid_auto_columns": null,
            "grid_auto_flow": null,
            "grid_auto_rows": null,
            "grid_column": null,
            "grid_gap": null,
            "grid_row": null,
            "grid_template_areas": null,
            "grid_template_columns": null,
            "grid_template_rows": null,
            "height": null,
            "justify_content": null,
            "justify_items": null,
            "left": null,
            "margin": null,
            "max_height": null,
            "max_width": null,
            "min_height": null,
            "min_width": null,
            "object_fit": null,
            "object_position": null,
            "order": null,
            "overflow": null,
            "overflow_x": null,
            "overflow_y": null,
            "padding": null,
            "right": null,
            "top": null,
            "visibility": null,
            "width": null
          }
        },
        "72246a3779b441e3a25ec1d8c8d47e3f": {
          "model_module": "@jupyter-widgets/controls",
          "model_name": "ButtonStyleModel",
          "model_module_version": "1.5.0",
          "state": {
            "_model_module": "@jupyter-widgets/controls",
            "_model_module_version": "1.5.0",
            "_model_name": "ButtonStyleModel",
            "_view_count": null,
            "_view_module": "@jupyter-widgets/base",
            "_view_module_version": "1.2.0",
            "_view_name": "StyleView",
            "button_color": null,
            "font_weight": ""
          }
        },
        "a4b4cff34e834642bf8fc08c91b0f524": {
          "model_module": "@jupyter-widgets/output",
          "model_name": "OutputModel",
          "model_module_version": "1.0.0",
          "state": {
            "_dom_classes": [],
            "_model_module": "@jupyter-widgets/output",
            "_model_module_version": "1.0.0",
            "_model_name": "OutputModel",
            "_view_count": null,
            "_view_module": "@jupyter-widgets/output",
            "_view_module_version": "1.0.0",
            "_view_name": "OutputView",
            "layout": "IPY_MODEL_a66d64ec285446b08ae12b14aa8ad381",
            "msg_id": "",
            "outputs": [
              {
                "output_type": "stream",
                "name": "stdout",
                "text": [
                  "Прогнозный рейтинг: [3.5867634]\n",
                  "Отрицательный отзыв\n"
                ]
              }
            ]
          }
        },
        "a66d64ec285446b08ae12b14aa8ad381": {
          "model_module": "@jupyter-widgets/base",
          "model_name": "LayoutModel",
          "model_module_version": "1.2.0",
          "state": {
            "_model_module": "@jupyter-widgets/base",
            "_model_module_version": "1.2.0",
            "_model_name": "LayoutModel",
            "_view_count": null,
            "_view_module": "@jupyter-widgets/base",
            "_view_module_version": "1.2.0",
            "_view_name": "LayoutView",
            "align_content": null,
            "align_items": null,
            "align_self": null,
            "border": null,
            "bottom": null,
            "display": null,
            "flex": null,
            "flex_flow": null,
            "grid_area": null,
            "grid_auto_columns": null,
            "grid_auto_flow": null,
            "grid_auto_rows": null,
            "grid_column": null,
            "grid_gap": null,
            "grid_row": null,
            "grid_template_areas": null,
            "grid_template_columns": null,
            "grid_template_rows": null,
            "height": null,
            "justify_content": null,
            "justify_items": null,
            "left": null,
            "margin": null,
            "max_height": null,
            "max_width": null,
            "min_height": null,
            "min_width": null,
            "object_fit": null,
            "object_position": null,
            "order": null,
            "overflow": null,
            "overflow_x": null,
            "overflow_y": null,
            "padding": null,
            "right": null,
            "top": null,
            "visibility": null,
            "width": null
          }
        },
        "41e1a4d130864c1f894639fe14c1ddc0": {
          "model_module": "@jupyter-widgets/controls",
          "model_name": "TextareaModel",
          "model_module_version": "1.5.0",
          "state": {
            "_dom_classes": [],
            "_model_module": "@jupyter-widgets/controls",
            "_model_module_version": "1.5.0",
            "_model_name": "TextareaModel",
            "_view_count": null,
            "_view_module": "@jupyter-widgets/controls",
            "_view_module_version": "1.5.0",
            "_view_name": "TextareaView",
            "continuous_update": true,
            "description": "Отзыв о фильме:",
            "description_tooltip": null,
            "disabled": false,
            "layout": "IPY_MODEL_42732944c8344d1d85f35af29c678fba",
            "placeholder": "​",
            "rows": 5,
            "style": "IPY_MODEL_cc7833d909724e2e909741eef23db951",
            "value": "Overall, I liked this movie, although the action is a bit long and the plot is boring."
          }
        },
        "42732944c8344d1d85f35af29c678fba": {
          "model_module": "@jupyter-widgets/base",
          "model_name": "LayoutModel",
          "model_module_version": "1.2.0",
          "state": {
            "_model_module": "@jupyter-widgets/base",
            "_model_module_version": "1.2.0",
            "_model_name": "LayoutModel",
            "_view_count": null,
            "_view_module": "@jupyter-widgets/base",
            "_view_module_version": "1.2.0",
            "_view_name": "LayoutView",
            "align_content": null,
            "align_items": null,
            "align_self": null,
            "border": null,
            "bottom": null,
            "display": null,
            "flex": null,
            "flex_flow": null,
            "grid_area": null,
            "grid_auto_columns": null,
            "grid_auto_flow": null,
            "grid_auto_rows": null,
            "grid_column": null,
            "grid_gap": null,
            "grid_row": null,
            "grid_template_areas": null,
            "grid_template_columns": null,
            "grid_template_rows": null,
            "height": null,
            "justify_content": null,
            "justify_items": null,
            "left": null,
            "margin": null,
            "max_height": null,
            "max_width": null,
            "min_height": null,
            "min_width": null,
            "object_fit": null,
            "object_position": null,
            "order": null,
            "overflow": null,
            "overflow_x": null,
            "overflow_y": null,
            "padding": null,
            "right": null,
            "top": null,
            "visibility": null,
            "width": null
          }
        },
        "cc7833d909724e2e909741eef23db951": {
          "model_module": "@jupyter-widgets/controls",
          "model_name": "DescriptionStyleModel",
          "model_module_version": "1.5.0",
          "state": {
            "_model_module": "@jupyter-widgets/controls",
            "_model_module_version": "1.5.0",
            "_model_name": "DescriptionStyleModel",
            "_view_count": null,
            "_view_module": "@jupyter-widgets/base",
            "_view_module_version": "1.2.0",
            "_view_name": "StyleView",
            "description_width": ""
          }
        },
        "6fd12b5a975c4119b0e07803fb083ac1": {
          "model_module": "@jupyter-widgets/controls",
          "model_name": "ButtonModel",
          "model_module_version": "1.5.0",
          "state": {
            "_dom_classes": [],
            "_model_module": "@jupyter-widgets/controls",
            "_model_module_version": "1.5.0",
            "_model_name": "ButtonModel",
            "_view_count": null,
            "_view_module": "@jupyter-widgets/controls",
            "_view_module_version": "1.5.0",
            "_view_name": "ButtonView",
            "button_style": "",
            "description": "Предсказать рейтинг",
            "disabled": false,
            "icon": "",
            "layout": "IPY_MODEL_526097a24f3f442ab1d7808addbbe59c",
            "style": "IPY_MODEL_956e4317fd8d41519aeeb445d69886b5",
            "tooltip": ""
          }
        },
        "526097a24f3f442ab1d7808addbbe59c": {
          "model_module": "@jupyter-widgets/base",
          "model_name": "LayoutModel",
          "model_module_version": "1.2.0",
          "state": {
            "_model_module": "@jupyter-widgets/base",
            "_model_module_version": "1.2.0",
            "_model_name": "LayoutModel",
            "_view_count": null,
            "_view_module": "@jupyter-widgets/base",
            "_view_module_version": "1.2.0",
            "_view_name": "LayoutView",
            "align_content": null,
            "align_items": null,
            "align_self": null,
            "border": null,
            "bottom": null,
            "display": null,
            "flex": null,
            "flex_flow": null,
            "grid_area": null,
            "grid_auto_columns": null,
            "grid_auto_flow": null,
            "grid_auto_rows": null,
            "grid_column": null,
            "grid_gap": null,
            "grid_row": null,
            "grid_template_areas": null,
            "grid_template_columns": null,
            "grid_template_rows": null,
            "height": null,
            "justify_content": null,
            "justify_items": null,
            "left": null,
            "margin": null,
            "max_height": null,
            "max_width": null,
            "min_height": null,
            "min_width": null,
            "object_fit": null,
            "object_position": null,
            "order": null,
            "overflow": null,
            "overflow_x": null,
            "overflow_y": null,
            "padding": null,
            "right": null,
            "top": null,
            "visibility": null,
            "width": null
          }
        },
        "956e4317fd8d41519aeeb445d69886b5": {
          "model_module": "@jupyter-widgets/controls",
          "model_name": "ButtonStyleModel",
          "model_module_version": "1.5.0",
          "state": {
            "_model_module": "@jupyter-widgets/controls",
            "_model_module_version": "1.5.0",
            "_model_name": "ButtonStyleModel",
            "_view_count": null,
            "_view_module": "@jupyter-widgets/base",
            "_view_module_version": "1.2.0",
            "_view_name": "StyleView",
            "button_color": null,
            "font_weight": ""
          }
        },
        "8939dda013eb4cd3bbd174e08f99e3e6": {
          "model_module": "@jupyter-widgets/output",
          "model_name": "OutputModel",
          "model_module_version": "1.0.0",
          "state": {
            "_dom_classes": [],
            "_model_module": "@jupyter-widgets/output",
            "_model_module_version": "1.0.0",
            "_model_name": "OutputModel",
            "_view_count": null,
            "_view_module": "@jupyter-widgets/output",
            "_view_module_version": "1.0.0",
            "_view_name": "OutputView",
            "layout": "IPY_MODEL_284c4240e59949f29878944a6f8acc1a",
            "msg_id": "",
            "outputs": [
              {
                "output_type": "stream",
                "name": "stdout",
                "text": [
                  "Прогнозный рейтинг: [6.7478676]\n",
                  "Нейтральный отзыв\n"
                ]
              }
            ]
          }
        },
        "284c4240e59949f29878944a6f8acc1a": {
          "model_module": "@jupyter-widgets/base",
          "model_name": "LayoutModel",
          "model_module_version": "1.2.0",
          "state": {
            "_model_module": "@jupyter-widgets/base",
            "_model_module_version": "1.2.0",
            "_model_name": "LayoutModel",
            "_view_count": null,
            "_view_module": "@jupyter-widgets/base",
            "_view_module_version": "1.2.0",
            "_view_name": "LayoutView",
            "align_content": null,
            "align_items": null,
            "align_self": null,
            "border": null,
            "bottom": null,
            "display": null,
            "flex": null,
            "flex_flow": null,
            "grid_area": null,
            "grid_auto_columns": null,
            "grid_auto_flow": null,
            "grid_auto_rows": null,
            "grid_column": null,
            "grid_gap": null,
            "grid_row": null,
            "grid_template_areas": null,
            "grid_template_columns": null,
            "grid_template_rows": null,
            "height": null,
            "justify_content": null,
            "justify_items": null,
            "left": null,
            "margin": null,
            "max_height": null,
            "max_width": null,
            "min_height": null,
            "min_width": null,
            "object_fit": null,
            "object_position": null,
            "order": null,
            "overflow": null,
            "overflow_x": null,
            "overflow_y": null,
            "padding": null,
            "right": null,
            "top": null,
            "visibility": null,
            "width": null
          }
        },
        "398e398a25294f89a7a3494b1a6b50dc": {
          "model_module": "@jupyter-widgets/controls",
          "model_name": "TextareaModel",
          "model_module_version": "1.5.0",
          "state": {
            "_dom_classes": [],
            "_model_module": "@jupyter-widgets/controls",
            "_model_module_version": "1.5.0",
            "_model_name": "TextareaModel",
            "_view_count": null,
            "_view_module": "@jupyter-widgets/controls",
            "_view_module_version": "1.5.0",
            "_view_name": "TextareaView",
            "continuous_update": true,
            "description": "Отзыв о фильме:",
            "description_tooltip": null,
            "disabled": false,
            "layout": "IPY_MODEL_23e50a7d2d9c4f0c80f35d4beda2013b",
            "placeholder": "​",
            "rows": 5,
            "style": "IPY_MODEL_d680438b01d743309eb70061be468d6e",
            "value": "This is a fantastic movie. You simply must watch it."
          }
        },
        "23e50a7d2d9c4f0c80f35d4beda2013b": {
          "model_module": "@jupyter-widgets/base",
          "model_name": "LayoutModel",
          "model_module_version": "1.2.0",
          "state": {
            "_model_module": "@jupyter-widgets/base",
            "_model_module_version": "1.2.0",
            "_model_name": "LayoutModel",
            "_view_count": null,
            "_view_module": "@jupyter-widgets/base",
            "_view_module_version": "1.2.0",
            "_view_name": "LayoutView",
            "align_content": null,
            "align_items": null,
            "align_self": null,
            "border": null,
            "bottom": null,
            "display": null,
            "flex": null,
            "flex_flow": null,
            "grid_area": null,
            "grid_auto_columns": null,
            "grid_auto_flow": null,
            "grid_auto_rows": null,
            "grid_column": null,
            "grid_gap": null,
            "grid_row": null,
            "grid_template_areas": null,
            "grid_template_columns": null,
            "grid_template_rows": null,
            "height": null,
            "justify_content": null,
            "justify_items": null,
            "left": null,
            "margin": null,
            "max_height": null,
            "max_width": null,
            "min_height": null,
            "min_width": null,
            "object_fit": null,
            "object_position": null,
            "order": null,
            "overflow": null,
            "overflow_x": null,
            "overflow_y": null,
            "padding": null,
            "right": null,
            "top": null,
            "visibility": null,
            "width": null
          }
        },
        "d680438b01d743309eb70061be468d6e": {
          "model_module": "@jupyter-widgets/controls",
          "model_name": "DescriptionStyleModel",
          "model_module_version": "1.5.0",
          "state": {
            "_model_module": "@jupyter-widgets/controls",
            "_model_module_version": "1.5.0",
            "_model_name": "DescriptionStyleModel",
            "_view_count": null,
            "_view_module": "@jupyter-widgets/base",
            "_view_module_version": "1.2.0",
            "_view_name": "StyleView",
            "description_width": ""
          }
        },
        "057309db9ec642828e931f3b16c81449": {
          "model_module": "@jupyter-widgets/controls",
          "model_name": "ButtonModel",
          "model_module_version": "1.5.0",
          "state": {
            "_dom_classes": [],
            "_model_module": "@jupyter-widgets/controls",
            "_model_module_version": "1.5.0",
            "_model_name": "ButtonModel",
            "_view_count": null,
            "_view_module": "@jupyter-widgets/controls",
            "_view_module_version": "1.5.0",
            "_view_name": "ButtonView",
            "button_style": "",
            "description": "Предсказать рейтинг",
            "disabled": false,
            "icon": "",
            "layout": "IPY_MODEL_d6b79178c26d49daa9c801bc73a61245",
            "style": "IPY_MODEL_ad2276b945ed4803be359f344186a271",
            "tooltip": ""
          }
        },
        "d6b79178c26d49daa9c801bc73a61245": {
          "model_module": "@jupyter-widgets/base",
          "model_name": "LayoutModel",
          "model_module_version": "1.2.0",
          "state": {
            "_model_module": "@jupyter-widgets/base",
            "_model_module_version": "1.2.0",
            "_model_name": "LayoutModel",
            "_view_count": null,
            "_view_module": "@jupyter-widgets/base",
            "_view_module_version": "1.2.0",
            "_view_name": "LayoutView",
            "align_content": null,
            "align_items": null,
            "align_self": null,
            "border": null,
            "bottom": null,
            "display": null,
            "flex": null,
            "flex_flow": null,
            "grid_area": null,
            "grid_auto_columns": null,
            "grid_auto_flow": null,
            "grid_auto_rows": null,
            "grid_column": null,
            "grid_gap": null,
            "grid_row": null,
            "grid_template_areas": null,
            "grid_template_columns": null,
            "grid_template_rows": null,
            "height": null,
            "justify_content": null,
            "justify_items": null,
            "left": null,
            "margin": null,
            "max_height": null,
            "max_width": null,
            "min_height": null,
            "min_width": null,
            "object_fit": null,
            "object_position": null,
            "order": null,
            "overflow": null,
            "overflow_x": null,
            "overflow_y": null,
            "padding": null,
            "right": null,
            "top": null,
            "visibility": null,
            "width": null
          }
        },
        "ad2276b945ed4803be359f344186a271": {
          "model_module": "@jupyter-widgets/controls",
          "model_name": "ButtonStyleModel",
          "model_module_version": "1.5.0",
          "state": {
            "_model_module": "@jupyter-widgets/controls",
            "_model_module_version": "1.5.0",
            "_model_name": "ButtonStyleModel",
            "_view_count": null,
            "_view_module": "@jupyter-widgets/base",
            "_view_module_version": "1.2.0",
            "_view_name": "StyleView",
            "button_color": null,
            "font_weight": ""
          }
        },
        "050dd0815886447786a069902e0db13f": {
          "model_module": "@jupyter-widgets/output",
          "model_name": "OutputModel",
          "model_module_version": "1.0.0",
          "state": {
            "_dom_classes": [],
            "_model_module": "@jupyter-widgets/output",
            "_model_module_version": "1.0.0",
            "_model_name": "OutputModel",
            "_view_count": null,
            "_view_module": "@jupyter-widgets/output",
            "_view_module_version": "1.0.0",
            "_view_name": "OutputView",
            "layout": "IPY_MODEL_7e50d105192f468399e43d5c057d0923",
            "msg_id": "",
            "outputs": [
              {
                "output_type": "stream",
                "name": "stdout",
                "text": [
                  "Прогнозный рейтинг: [8.526453]\n",
                  "Положительный отзыв\n"
                ]
              }
            ]
          }
        },
        "7e50d105192f468399e43d5c057d0923": {
          "model_module": "@jupyter-widgets/base",
          "model_name": "LayoutModel",
          "model_module_version": "1.2.0",
          "state": {
            "_model_module": "@jupyter-widgets/base",
            "_model_module_version": "1.2.0",
            "_model_name": "LayoutModel",
            "_view_count": null,
            "_view_module": "@jupyter-widgets/base",
            "_view_module_version": "1.2.0",
            "_view_name": "LayoutView",
            "align_content": null,
            "align_items": null,
            "align_self": null,
            "border": null,
            "bottom": null,
            "display": null,
            "flex": null,
            "flex_flow": null,
            "grid_area": null,
            "grid_auto_columns": null,
            "grid_auto_flow": null,
            "grid_auto_rows": null,
            "grid_column": null,
            "grid_gap": null,
            "grid_row": null,
            "grid_template_areas": null,
            "grid_template_columns": null,
            "grid_template_rows": null,
            "height": null,
            "justify_content": null,
            "justify_items": null,
            "left": null,
            "margin": null,
            "max_height": null,
            "max_width": null,
            "min_height": null,
            "min_width": null,
            "object_fit": null,
            "object_position": null,
            "order": null,
            "overflow": null,
            "overflow_x": null,
            "overflow_y": null,
            "padding": null,
            "right": null,
            "top": null,
            "visibility": null,
            "width": null
          }
        }
      }
    }
  },
  "cells": [
    {
      "cell_type": "markdown",
      "metadata": {
        "id": "view-in-github",
        "colab_type": "text"
      },
      "source": [
        "<a href=\"https://colab.research.google.com/github/TimWingers/MyPythonScripts/blob/master/imdb.ipynb\" target=\"_parent\"><img src=\"https://colab.research.google.com/assets/colab-badge.svg\" alt=\"Open In Colab\"/></a>"
      ]
    },
    {
      "cell_type": "code",
      "execution_count": 1,
      "metadata": {
        "colab": {
          "base_uri": "https://localhost:8080/"
        },
        "id": "MlpsQ36daOhR",
        "outputId": "e8056661-060c-47ff-bd50-12c18621a9b9"
      },
      "outputs": [
        {
          "output_type": "stream",
          "name": "stdout",
          "text": [
            "Collecting tensorflow==2.8.0\n",
            "  Downloading tensorflow-2.8.0-cp310-cp310-manylinux2010_x86_64.whl (497.6 MB)\n",
            "\u001b[2K     \u001b[90m━━━━━━━━━━━━━━━━━━━━━━━━━━━━━━━━━━━━━━━\u001b[0m \u001b[32m497.6/497.6 MB\u001b[0m \u001b[31m1.5 MB/s\u001b[0m eta \u001b[36m0:00:00\u001b[0m\n",
            "\u001b[?25hRequirement already satisfied: absl-py>=0.4.0 in /usr/local/lib/python3.10/dist-packages (from tensorflow==2.8.0) (1.4.0)\n",
            "Requirement already satisfied: astunparse>=1.6.0 in /usr/local/lib/python3.10/dist-packages (from tensorflow==2.8.0) (1.6.3)\n",
            "Requirement already satisfied: flatbuffers>=1.12 in /usr/local/lib/python3.10/dist-packages (from tensorflow==2.8.0) (23.5.26)\n",
            "Requirement already satisfied: gast>=0.2.1 in /usr/local/lib/python3.10/dist-packages (from tensorflow==2.8.0) (0.4.0)\n",
            "Requirement already satisfied: google-pasta>=0.1.1 in /usr/local/lib/python3.10/dist-packages (from tensorflow==2.8.0) (0.2.0)\n",
            "Requirement already satisfied: h5py>=2.9.0 in /usr/local/lib/python3.10/dist-packages (from tensorflow==2.8.0) (3.8.0)\n",
            "Collecting keras-preprocessing>=1.1.1 (from tensorflow==2.8.0)\n",
            "  Downloading Keras_Preprocessing-1.1.2-py2.py3-none-any.whl (42 kB)\n",
            "\u001b[2K     \u001b[90m━━━━━━━━━━━━━━━━━━━━━━━━━━━━━━━━━━━━━━━━\u001b[0m \u001b[32m42.6/42.6 kB\u001b[0m \u001b[31m2.2 MB/s\u001b[0m eta \u001b[36m0:00:00\u001b[0m\n",
            "\u001b[?25hRequirement already satisfied: libclang>=9.0.1 in /usr/local/lib/python3.10/dist-packages (from tensorflow==2.8.0) (16.0.6)\n",
            "Requirement already satisfied: numpy>=1.20 in /usr/local/lib/python3.10/dist-packages (from tensorflow==2.8.0) (1.22.4)\n",
            "Requirement already satisfied: opt-einsum>=2.3.2 in /usr/local/lib/python3.10/dist-packages (from tensorflow==2.8.0) (3.3.0)\n",
            "Requirement already satisfied: protobuf>=3.9.2 in /usr/local/lib/python3.10/dist-packages (from tensorflow==2.8.0) (3.20.3)\n",
            "Requirement already satisfied: setuptools in /usr/local/lib/python3.10/dist-packages (from tensorflow==2.8.0) (67.7.2)\n",
            "Requirement already satisfied: six>=1.12.0 in /usr/local/lib/python3.10/dist-packages (from tensorflow==2.8.0) (1.16.0)\n",
            "Requirement already satisfied: termcolor>=1.1.0 in /usr/local/lib/python3.10/dist-packages (from tensorflow==2.8.0) (2.3.0)\n",
            "Requirement already satisfied: typing-extensions>=3.6.6 in /usr/local/lib/python3.10/dist-packages (from tensorflow==2.8.0) (4.7.1)\n",
            "Requirement already satisfied: wrapt>=1.11.0 in /usr/local/lib/python3.10/dist-packages (from tensorflow==2.8.0) (1.14.1)\n",
            "Collecting tensorboard<2.9,>=2.8 (from tensorflow==2.8.0)\n",
            "  Downloading tensorboard-2.8.0-py3-none-any.whl (5.8 MB)\n",
            "\u001b[2K     \u001b[90m━━━━━━━━━━━━━━━━━━━━━━━━━━━━━━━━━━━━━━━━\u001b[0m \u001b[32m5.8/5.8 MB\u001b[0m \u001b[31m38.7 MB/s\u001b[0m eta \u001b[36m0:00:00\u001b[0m\n",
            "\u001b[?25hCollecting tf-estimator-nightly==2.8.0.dev2021122109 (from tensorflow==2.8.0)\n",
            "  Downloading tf_estimator_nightly-2.8.0.dev2021122109-py2.py3-none-any.whl (462 kB)\n",
            "\u001b[2K     \u001b[90m━━━━━━━━━━━━━━━━━━━━━━━━━━━━━━━━━━━━━━\u001b[0m \u001b[32m462.5/462.5 kB\u001b[0m \u001b[31m29.5 MB/s\u001b[0m eta \u001b[36m0:00:00\u001b[0m\n",
            "\u001b[?25hCollecting keras<2.9,>=2.8.0rc0 (from tensorflow==2.8.0)\n",
            "  Downloading keras-2.8.0-py2.py3-none-any.whl (1.4 MB)\n",
            "\u001b[2K     \u001b[90m━━━━━━━━━━━━━━━━━━━━━━━━━━━━━━━━━━━━━━━━\u001b[0m \u001b[32m1.4/1.4 MB\u001b[0m \u001b[31m53.6 MB/s\u001b[0m eta \u001b[36m0:00:00\u001b[0m\n",
            "\u001b[?25hRequirement already satisfied: tensorflow-io-gcs-filesystem>=0.23.1 in /usr/local/lib/python3.10/dist-packages (from tensorflow==2.8.0) (0.32.0)\n",
            "Requirement already satisfied: grpcio<2.0,>=1.24.3 in /usr/local/lib/python3.10/dist-packages (from tensorflow==2.8.0) (1.56.0)\n",
            "Requirement already satisfied: wheel<1.0,>=0.23.0 in /usr/local/lib/python3.10/dist-packages (from astunparse>=1.6.0->tensorflow==2.8.0) (0.40.0)\n",
            "Requirement already satisfied: google-auth<3,>=1.6.3 in /usr/local/lib/python3.10/dist-packages (from tensorboard<2.9,>=2.8->tensorflow==2.8.0) (2.17.3)\n",
            "Collecting google-auth-oauthlib<0.5,>=0.4.1 (from tensorboard<2.9,>=2.8->tensorflow==2.8.0)\n",
            "  Downloading google_auth_oauthlib-0.4.6-py2.py3-none-any.whl (18 kB)\n",
            "Requirement already satisfied: markdown>=2.6.8 in /usr/local/lib/python3.10/dist-packages (from tensorboard<2.9,>=2.8->tensorflow==2.8.0) (3.4.3)\n",
            "Requirement already satisfied: requests<3,>=2.21.0 in /usr/local/lib/python3.10/dist-packages (from tensorboard<2.9,>=2.8->tensorflow==2.8.0) (2.27.1)\n",
            "Collecting tensorboard-data-server<0.7.0,>=0.6.0 (from tensorboard<2.9,>=2.8->tensorflow==2.8.0)\n",
            "  Downloading tensorboard_data_server-0.6.1-py3-none-manylinux2010_x86_64.whl (4.9 MB)\n",
            "\u001b[2K     \u001b[90m━━━━━━━━━━━━━━━━━━━━━━━━━━━━━━━━━━━━━━━━\u001b[0m \u001b[32m4.9/4.9 MB\u001b[0m \u001b[31m89.3 MB/s\u001b[0m eta \u001b[36m0:00:00\u001b[0m\n",
            "\u001b[?25hCollecting tensorboard-plugin-wit>=1.6.0 (from tensorboard<2.9,>=2.8->tensorflow==2.8.0)\n",
            "  Downloading tensorboard_plugin_wit-1.8.1-py3-none-any.whl (781 kB)\n",
            "\u001b[2K     \u001b[90m━━━━━━━━━━━━━━━━━━━━━━━━━━━━━━━━━━━━━━\u001b[0m \u001b[32m781.3/781.3 kB\u001b[0m \u001b[31m45.7 MB/s\u001b[0m eta \u001b[36m0:00:00\u001b[0m\n",
            "\u001b[?25hRequirement already satisfied: werkzeug>=0.11.15 in /usr/local/lib/python3.10/dist-packages (from tensorboard<2.9,>=2.8->tensorflow==2.8.0) (2.3.6)\n",
            "Requirement already satisfied: cachetools<6.0,>=2.0.0 in /usr/local/lib/python3.10/dist-packages (from google-auth<3,>=1.6.3->tensorboard<2.9,>=2.8->tensorflow==2.8.0) (5.3.1)\n",
            "Requirement already satisfied: pyasn1-modules>=0.2.1 in /usr/local/lib/python3.10/dist-packages (from google-auth<3,>=1.6.3->tensorboard<2.9,>=2.8->tensorflow==2.8.0) (0.3.0)\n",
            "Requirement already satisfied: rsa<5,>=3.1.4 in /usr/local/lib/python3.10/dist-packages (from google-auth<3,>=1.6.3->tensorboard<2.9,>=2.8->tensorflow==2.8.0) (4.9)\n",
            "Requirement already satisfied: requests-oauthlib>=0.7.0 in /usr/local/lib/python3.10/dist-packages (from google-auth-oauthlib<0.5,>=0.4.1->tensorboard<2.9,>=2.8->tensorflow==2.8.0) (1.3.1)\n",
            "Requirement already satisfied: urllib3<1.27,>=1.21.1 in /usr/local/lib/python3.10/dist-packages (from requests<3,>=2.21.0->tensorboard<2.9,>=2.8->tensorflow==2.8.0) (1.26.16)\n",
            "Requirement already satisfied: certifi>=2017.4.17 in /usr/local/lib/python3.10/dist-packages (from requests<3,>=2.21.0->tensorboard<2.9,>=2.8->tensorflow==2.8.0) (2023.5.7)\n",
            "Requirement already satisfied: charset-normalizer~=2.0.0 in /usr/local/lib/python3.10/dist-packages (from requests<3,>=2.21.0->tensorboard<2.9,>=2.8->tensorflow==2.8.0) (2.0.12)\n",
            "Requirement already satisfied: idna<4,>=2.5 in /usr/local/lib/python3.10/dist-packages (from requests<3,>=2.21.0->tensorboard<2.9,>=2.8->tensorflow==2.8.0) (3.4)\n",
            "Requirement already satisfied: MarkupSafe>=2.1.1 in /usr/local/lib/python3.10/dist-packages (from werkzeug>=0.11.15->tensorboard<2.9,>=2.8->tensorflow==2.8.0) (2.1.3)\n",
            "Requirement already satisfied: pyasn1<0.6.0,>=0.4.6 in /usr/local/lib/python3.10/dist-packages (from pyasn1-modules>=0.2.1->google-auth<3,>=1.6.3->tensorboard<2.9,>=2.8->tensorflow==2.8.0) (0.5.0)\n",
            "Requirement already satisfied: oauthlib>=3.0.0 in /usr/local/lib/python3.10/dist-packages (from requests-oauthlib>=0.7.0->google-auth-oauthlib<0.5,>=0.4.1->tensorboard<2.9,>=2.8->tensorflow==2.8.0) (3.2.2)\n",
            "Installing collected packages: tf-estimator-nightly, tensorboard-plugin-wit, keras, tensorboard-data-server, keras-preprocessing, google-auth-oauthlib, tensorboard, tensorflow\n",
            "  Attempting uninstall: keras\n",
            "    Found existing installation: keras 2.12.0\n",
            "    Uninstalling keras-2.12.0:\n",
            "      Successfully uninstalled keras-2.12.0\n",
            "  Attempting uninstall: tensorboard-data-server\n",
            "    Found existing installation: tensorboard-data-server 0.7.1\n",
            "    Uninstalling tensorboard-data-server-0.7.1:\n",
            "      Successfully uninstalled tensorboard-data-server-0.7.1\n",
            "  Attempting uninstall: google-auth-oauthlib\n",
            "    Found existing installation: google-auth-oauthlib 1.0.0\n",
            "    Uninstalling google-auth-oauthlib-1.0.0:\n",
            "      Successfully uninstalled google-auth-oauthlib-1.0.0\n",
            "  Attempting uninstall: tensorboard\n",
            "    Found existing installation: tensorboard 2.12.3\n",
            "    Uninstalling tensorboard-2.12.3:\n",
            "      Successfully uninstalled tensorboard-2.12.3\n",
            "  Attempting uninstall: tensorflow\n",
            "    Found existing installation: tensorflow 2.12.0\n",
            "    Uninstalling tensorflow-2.12.0:\n",
            "      Successfully uninstalled tensorflow-2.12.0\n",
            "Successfully installed google-auth-oauthlib-0.4.6 keras-2.8.0 keras-preprocessing-1.1.2 tensorboard-2.8.0 tensorboard-data-server-0.6.1 tensorboard-plugin-wit-1.8.1 tensorflow-2.8.0 tf-estimator-nightly-2.8.0.dev2021122109\n"
          ]
        }
      ],
      "source": [
        "#Установим последнюю версию TensorFlow\n",
        "!pip install tensorflow==2.8.0"
      ]
    },
    {
      "cell_type": "code",
      "source": [
        "#Импортируем необходимые библиотеки\n",
        "import tensorflow as tf\n",
        "from tensorflow import keras\n",
        "import numpy as np\n",
        "import os"
      ],
      "metadata": {
        "id": "ScQJkojSaTFk"
      },
      "execution_count": 2,
      "outputs": []
    },
    {
      "cell_type": "code",
      "source": [
        "#Загрузим датасет с отзывами Imdb.\n",
        "\n",
        "#Импортируем модуль pathlib для удаленной загрузки файлов.\n",
        "from pathlib import Path\n",
        "\n",
        "#Укажем url адрес где лежат данные и имя файла\n",
        "DOWNLOAD_ROOT = \"http://ai.stanford.edu/~amaas/data/sentiment/\"\n",
        "FILENAME = \"aclImdb_v1.tar.gz\"\n",
        "\n",
        "#С помощью библиотеки Keras загрузим файлы с автоматической распаковкой\n",
        "filepath = keras.utils.get_file(FILENAME, DOWNLOAD_ROOT + FILENAME, extract=True)\n",
        "\n",
        "#Загрузим в переменную \"path\" путь к родительской директории файлов,\n",
        "# а также добавим \"Imdb\" в конец пути\n",
        "path = Path(filepath).parent / \"aclImdb\"\n",
        "path"
      ],
      "metadata": {
        "colab": {
          "base_uri": "https://localhost:8080/"
        },
        "id": "aqjzr5ryanqH",
        "outputId": "9c02f487-0e64-42e4-bfdb-c0734c7ba887"
      },
      "execution_count": 3,
      "outputs": [
        {
          "output_type": "stream",
          "name": "stdout",
          "text": [
            "Downloading data from http://ai.stanford.edu/~amaas/data/sentiment/aclImdb_v1.tar.gz\n",
            "84131840/84125825 [==============================] - 10s 0us/step\n",
            "84140032/84125825 [==============================] - 10s 0us/step\n"
          ]
        },
        {
          "output_type": "execute_result",
          "data": {
            "text/plain": [
              "PosixPath('/root/.keras/datasets/aclImdb')"
            ]
          },
          "metadata": {},
          "execution_count": 3
        }
      ]
    },
    {
      "cell_type": "code",
      "source": [
        "#Ок. Теперь все файлы с данными у нас лежат в папке \"aclImdb\".\n",
        "#Давайте посмотрим на их структуру.\n",
        "\n",
        "#Запустим цикл, который будет проходить по всем файлам и папкам в указанном path (пути).\n",
        "#name будет содержать текущее имя папки или файла, subdirs будет содержать список подпапок\n",
        "# в текущей папке, а files будет содержать список файлов в текущей папке.\n",
        "for name, subdirs, files in os.walk(path):\n",
        "    indent = len(Path(name).parts) - len(path.parts) #эта строчка считает отступ в зависимости от того, насколько глубоко находится текущая папка\n",
        "    print(\"    \" * indent + Path(name).parts[-1] + os.sep) #имя текущей папки с отступом, используя символы пробела, os.sep используем для добавления правильного разделителя пути\n",
        "    #Запускаем вложенный цикл для перебора файлов в текущей папке. index будет содержать текущий индекс файла, а filename - имя из списка files.\n",
        "    for index, filename in enumerate(sorted(files)):\n",
        "        if index == 3: #если текущий индекс равен 3\n",
        "            print(\"    \" * (indent + 1) + \"...\") #выводим троеточие с отступом, увеличенным на один\n",
        "            break\n",
        "        print(\"    \" * (indent + 1) + filename)  #если не равен 3, то выводим имя файла с отступом +1"
      ],
      "metadata": {
        "colab": {
          "base_uri": "https://localhost:8080/"
        },
        "id": "2OZCxbTDaqb-",
        "outputId": "2187b0f2-b60b-4826-ae24-fabf9ba91c77"
      },
      "execution_count": 4,
      "outputs": [
        {
          "output_type": "stream",
          "name": "stdout",
          "text": [
            "aclImdb/\n",
            "    README\n",
            "    imdb.vocab\n",
            "    imdbEr.txt\n",
            "    train/\n",
            "        labeledBow.feat\n",
            "        unsupBow.feat\n",
            "        urls_neg.txt\n",
            "        ...\n",
            "        neg/\n",
            "            0_3.txt\n",
            "            10000_4.txt\n",
            "            10001_4.txt\n",
            "            ...\n",
            "        pos/\n",
            "            0_9.txt\n",
            "            10000_8.txt\n",
            "            10001_10.txt\n",
            "            ...\n",
            "        unsup/\n",
            "            0_0.txt\n",
            "            10000_0.txt\n",
            "            10001_0.txt\n",
            "            ...\n",
            "    test/\n",
            "        labeledBow.feat\n",
            "        urls_neg.txt\n",
            "        urls_pos.txt\n",
            "        neg/\n",
            "            0_2.txt\n",
            "            10000_4.txt\n",
            "            10001_1.txt\n",
            "            ...\n",
            "        pos/\n",
            "            0_10.txt\n",
            "            10000_7.txt\n",
            "            10001_9.txt\n",
            "            ...\n"
          ]
        }
      ]
    },
    {
      "cell_type": "code",
      "source": [
        "#Давайте теперь посмотрим сколько данных у нас содержится в обучаемых\n",
        "# и тестовых выборках с положительными и негативными отзывами.\n",
        "\n",
        "#Создадим функцию с аргументом dirpath. Она будет принимать путь к директории и\n",
        "# возврать список путей ко всем файлам с расширением \".txt\"\n",
        "def review_paths(dirpath):\n",
        "    return [str(path) for path in dirpath.glob(\"*.txt\")]\n",
        "\n",
        "train_pos = review_paths(path / \"train\" / \"pos\")\n",
        "train_neg = review_paths(path / \"train\" / \"neg\")\n",
        "test_valid_pos = review_paths(path / \"test\" / \"pos\")\n",
        "test_valid_neg = review_paths(path / \"test\" / \"neg\")\n",
        "\n",
        "len(train_pos), len(train_neg), len(test_valid_pos), len(test_valid_neg)"
      ],
      "metadata": {
        "colab": {
          "base_uri": "https://localhost:8080/"
        },
        "id": "JReNNw_Qa0N-",
        "outputId": "2cb06177-a399-4fef-dad4-e28b9cb10f7a"
      },
      "execution_count": 5,
      "outputs": [
        {
          "output_type": "execute_result",
          "data": {
            "text/plain": [
              "(12500, 12500, 12500, 12500)"
            ]
          },
          "metadata": {},
          "execution_count": 5
        }
      ]
    },
    {
      "cell_type": "code",
      "source": [
        "#Поскольку датасет довольно большой (по 20Мб для train и test), то нам придется\n",
        "# урезать часть данных, чтобы они влезли в ОЗУ.\n",
        "\n",
        "#Для этого мы перемешаем элементы массива в случайном порядке и отберем 10000 из них.\n",
        "np.random.shuffle(test_valid_pos)\n",
        "\n",
        "test_pos = test_valid_pos[:10000]\n",
        "test_neg = test_valid_neg[:10000]\n",
        "valid_pos = test_valid_pos[10000:]\n",
        "valid_neg = test_valid_neg[10000:]"
      ],
      "metadata": {
        "id": "z9gpIm-ma3Ve"
      },
      "execution_count": 6,
      "outputs": []
    },
    {
      "cell_type": "code",
      "source": [
        "#Теперь нам нужно привести данные в формат цельного датасета.\n",
        "\n",
        "#Напишем функцию, которая будет принимать пути с положительными и негативными\n",
        "# отзывами, создаст списки с отзывами и метками классов\n",
        "def imdb_dataset(filepaths_positive, filepaths_negative):\n",
        "    reviews = []\n",
        "    labels = []\n",
        "    #Создаем цикл для перебора всех путей и меток в filepaths_negative и filepaths_positive\n",
        "    for filepaths, label in ((filepaths_negative, 0), (filepaths_positive, 1)):\n",
        "        for filepath in filepaths:\n",
        "            #Открываем каждый файл и добавляем в список\n",
        "            with open(filepath) as review_file:\n",
        "                reviews.append(review_file.read())\n",
        "            #Открываем каждую метку и добавляем в список\n",
        "            labels.append(label)\n",
        "    #Возвращаем датасет, содержащий 2 тензора: tf.constant(reviews) и tf.constant(labels).\n",
        "    return tf.data.Dataset.from_tensor_slices((tf.constant(reviews), tf.constant(labels)))"
      ],
      "metadata": {
        "id": "ocRU__Uja6v_"
      },
      "execution_count": 7,
      "outputs": []
    },
    {
      "cell_type": "code",
      "source": [
        "#Теперь проверим все ли импортировалось корректно.\n",
        "#Возьмем 3 случайных отзыва и метки из созданного датасета.\n",
        "for X, y in imdb_dataset(train_pos, train_neg).take(3):\n",
        "    print(X)\n",
        "    print(y)\n",
        "    print()"
      ],
      "metadata": {
        "colab": {
          "base_uri": "https://localhost:8080/"
        },
        "id": "jv0e4s6pa9jv",
        "outputId": "fbc7c0fe-4ae9-447f-981c-44b4fc9d3dca"
      },
      "execution_count": 8,
      "outputs": [
        {
          "output_type": "stream",
          "name": "stdout",
          "text": [
            "tf.Tensor(b\"This was really a very bad movie. I am a huge fan of Italian Horror, Argento, Mario Bava, Fulci and yes, even our good friend here Lamberto sometimes comes out with a good one. I found the first two 'Demons' films to be highly entertaining - they were so bad they were great but this one is just so bad that it is really, really bad. It is intensely boring, the story never goes anywhere and I hated the characters - the wife slapping husband and whiny cry-baby pain in the *** wife drove me mad, there was nowhere near enough of the story devoted to the Ogre who was probably the best actor in the whole film. I turned it off about three quarters of the way through because I was very, very BORED! Don't bother.\", shape=(), dtype=string)\n",
            "tf.Tensor(0, shape=(), dtype=int32)\n",
            "\n",
            "tf.Tensor(b'I voted 3 for this movie because it looks great as does all of Greenaways output. However it was his usual mix of \"art\" sex and pretentious crap.I know lots of people like this film but I grew tired of it VERY quickly. It is definitely not for everyone. The ubiquitous McGregor obviously took the part for crediblity\\'s sake I guess but he really should not have wasted his time. I hate to consign anyone to pseud\\'s corner but please.....!!! On the plus side it IS visually very attractive and I enjoyed the music but could not see it through to the end and I cannot say that for many movies. I usually watch the whole thing but this is unbearable!!', shape=(), dtype=string)\n",
            "tf.Tensor(0, shape=(), dtype=int32)\n",
            "\n",
            "tf.Tensor(b'for the most part, On Demand delivers some pretty horrible horror movies, and only offers other horror movies everyone has already seen, and already have an opinion on. It was either this, or Invinicible (I like Mark Wahlberg movies), which I haven\\'t seen, and I was actually in a movie watching mood, which doesn\\'t happen often anymore because I\\'ve already watched all the movies i own a million times, and that\\'s a lot of movies, and I don\\'t have much interest in new movies, and boy, this movie made me regret it. I\\'m not going to put in any spoilers, I\\'m just going to tell you that only a FEW of the very FEW actors in this movie ,are half way decent. I think the main girl, the dead one who kills everyone, is very annoying looking, but convincing; I\\'d take her for psycho bitch anyday, so she fits her roll well, though it is lame. The blood isn\\'t that great, only a few of the kills, or may I say \"woundings\" are alright, but you don\\'t see much and there are no body part props in the movie to make the injuries look more convincing. Towards the end of the movie I was begging my girlfriend to turn it off, and being a band member, the \\'recording\\' parts weren\\'t very interesting either, though what happened would truly happen when going about recording. I\\'m done, if you want to watch this, suit yourself.', shape=(), dtype=string)\n",
            "tf.Tensor(0, shape=(), dtype=int32)\n",
            "\n"
          ]
        }
      ]
    },
    {
      "cell_type": "code",
      "source": [
        "#Все корректно. 1й тензор у нас содержит текст, помеченный меткой b, что означает его начало.\n",
        "#2й тензор у нас содержит метку (оценку) этого комментариях в формате целого числа.\n",
        "\n",
        "#Теперь можно приступать к препроцессингу данных для загрузки в нейросеть.\n",
        "\n",
        "#Определим размер батча.\n",
        "batch_size = 32\n",
        "\n",
        "#Создадим обучаемый, тестовый и валидационные наборы данных.\n",
        "#Будем использовать shuffle для обучения, для перетасовки его элементов случайным образом.\n",
        "#А также будем использовать prefetch для автопредзагрузки 1 пакета, чтобы ускорить обучение.\n",
        "train_set = imdb_dataset(train_pos, train_neg).shuffle(50000).batch(batch_size).prefetch(1)\n",
        "valid_set = imdb_dataset(valid_pos, valid_neg).batch(batch_size).prefetch(1)\n",
        "test_set = imdb_dataset(test_pos, test_neg).batch(batch_size).prefetch(1)"
      ],
      "metadata": {
        "id": "QNy9RZhAbBsW"
      },
      "execution_count": 9,
      "outputs": []
    },
    {
      "cell_type": "code",
      "source": [
        "#Теперь нам необходимо профильтровать весь \"мусор\" в отзывах.\n",
        "\n",
        "#Напишем функцию, которая будет принимать батчами по 50 слов наши данные и\n",
        "# преобразовывать для обучения нейросети.\n",
        "def preprocess(X_batch, n_words=50):\n",
        "    #Выравниваем границы матриц с текстами, по размеру батча, умножая на [1, 0],\n",
        "    # и добавляем к ним [0, n_words], чтобы увеличить количество столбцов на n_words\n",
        "    shape = tf.shape(X_batch) * tf.constant([1, 0]) + tf.constant([0, n_words])\n",
        "    #берем первые 500 символов из каждого текста в пакете X_batch и сохраняем в Z\n",
        "    Z = tf.strings.substr(X_batch, 0, 500)\n",
        "    #преобразуем все тексты в нижний регистр\n",
        "    Z = tf.strings.lower(Z)\n",
        "    #удаляем все теги \"<br>\" и \"<br/> из текста\n",
        "    Z = tf.strings.regex_replace(Z, b\"<br\\\\s*/?>\", b\" \")\n",
        "    #заменяем все небуквенные символы (не входящие в a до z) на пробелы\n",
        "    Z = tf.strings.regex_replace(Z, b\"[^a-z]\", b\" \")\n",
        "    #разделяем все предложения на слова и сохраняем в списки слов\n",
        "    Z = tf.strings.split(Z)\n",
        "    #возвращаем данные в виде тензора размером shape, заполняя пустоты pad'ами.\n",
        "    return Z.to_tensor(shape=shape, default_value=b\"<pad>\")"
      ],
      "metadata": {
        "id": "4zcyj-NcbGQz"
      },
      "execution_count": 10,
      "outputs": []
    },
    {
      "cell_type": "code",
      "source": [
        "#Давайте проверим все ли преобразовалось корректно\n",
        "X_example = tf.constant([\"It's a great, great movie! I loved it.\", \"It was terrible, run away!!!\"])\n",
        "preprocess(X_example)"
      ],
      "metadata": {
        "colab": {
          "base_uri": "https://localhost:8080/"
        },
        "id": "Js8g3VTVbJJb",
        "outputId": "c1b9216c-54b7-465c-9d9e-dba750a3d496"
      },
      "execution_count": 11,
      "outputs": [
        {
          "output_type": "execute_result",
          "data": {
            "text/plain": [
              "<tf.Tensor: shape=(2, 50), dtype=string, numpy=\n",
              "array([[b'it', b's', b'a', b'great', b'great', b'movie', b'i', b'loved',\n",
              "        b'it', b'<pad>', b'<pad>', b'<pad>', b'<pad>', b'<pad>',\n",
              "        b'<pad>', b'<pad>', b'<pad>', b'<pad>', b'<pad>', b'<pad>',\n",
              "        b'<pad>', b'<pad>', b'<pad>', b'<pad>', b'<pad>', b'<pad>',\n",
              "        b'<pad>', b'<pad>', b'<pad>', b'<pad>', b'<pad>', b'<pad>',\n",
              "        b'<pad>', b'<pad>', b'<pad>', b'<pad>', b'<pad>', b'<pad>',\n",
              "        b'<pad>', b'<pad>', b'<pad>', b'<pad>', b'<pad>', b'<pad>',\n",
              "        b'<pad>', b'<pad>', b'<pad>', b'<pad>', b'<pad>', b'<pad>'],\n",
              "       [b'it', b'was', b'terrible', b'run', b'away', b'<pad>', b'<pad>',\n",
              "        b'<pad>', b'<pad>', b'<pad>', b'<pad>', b'<pad>', b'<pad>',\n",
              "        b'<pad>', b'<pad>', b'<pad>', b'<pad>', b'<pad>', b'<pad>',\n",
              "        b'<pad>', b'<pad>', b'<pad>', b'<pad>', b'<pad>', b'<pad>',\n",
              "        b'<pad>', b'<pad>', b'<pad>', b'<pad>', b'<pad>', b'<pad>',\n",
              "        b'<pad>', b'<pad>', b'<pad>', b'<pad>', b'<pad>', b'<pad>',\n",
              "        b'<pad>', b'<pad>', b'<pad>', b'<pad>', b'<pad>', b'<pad>',\n",
              "        b'<pad>', b'<pad>', b'<pad>', b'<pad>', b'<pad>', b'<pad>',\n",
              "        b'<pad>']], dtype=object)>"
            ]
          },
          "metadata": {},
          "execution_count": 11
        }
      ]
    },
    {
      "cell_type": "code",
      "source": [
        "#Как мы видим все корректно. Однако тензор очень разрешен, в нем множество pad-ов.\n",
        "#Для наглядности мы можем отсеить все pad-ы и посмотреть что же там внутри.\n",
        "\n",
        "#Импортируем библиотеку счетчика\n",
        "from collections import Counter\n",
        "\n",
        "#И напишем функцию которая отсортирует все значения в тензоре по убыванию\n",
        "# и выведем все уникальные на экран.\n",
        "def get_vocabulary(data_sample, max_size=1000):\n",
        "    preprocessed_reviews = preprocess(data_sample).numpy()\n",
        "    counter = Counter()\n",
        "    for words in preprocessed_reviews:\n",
        "        for word in words:\n",
        "            if word != b\"<pad>\":\n",
        "                counter[word] += 1\n",
        "    return [b\"<pad>\"] + [word for word, count in counter.most_common(max_size)]\n",
        "\n",
        "get_vocabulary(X_example)"
      ],
      "metadata": {
        "colab": {
          "base_uri": "https://localhost:8080/"
        },
        "id": "CDzhDftJbMde",
        "outputId": "746cd441-0412-49bf-a1f5-0861b905ece4"
      },
      "execution_count": 12,
      "outputs": [
        {
          "output_type": "execute_result",
          "data": {
            "text/plain": [
              "[b'<pad>',\n",
              " b'it',\n",
              " b'great',\n",
              " b's',\n",
              " b'a',\n",
              " b'movie',\n",
              " b'i',\n",
              " b'loved',\n",
              " b'was',\n",
              " b'terrible',\n",
              " b'run',\n",
              " b'away']"
            ]
          },
          "metadata": {},
          "execution_count": 12
        }
      ]
    },
    {
      "cell_type": "code",
      "source": [
        "#Как и ожидалось, pad-ы доминируют. Также как и предлоги и союзы, хотя в этом отзыве\n",
        "# автор также явно находится под впечатлением используя часто 'great', 'movie' и 'loved'."
      ],
      "metadata": {
        "id": "FHnyHuX8bPWA"
      },
      "execution_count": 13,
      "outputs": []
    },
    {
      "cell_type": "code",
      "source": [
        "#Итак препроцессинг почти завершен. Однако компьютеры не умеют работать со словами, а\n",
        "# только с цифрами. Поэтому нам необходимо преобразовать каждый токен наших тензоров\n",
        "# в числа.\n",
        "\n",
        "#Будем использовать библиотеку TextVectorization\n",
        "from tensorflow.keras.layers.experimental.preprocessing import TextVectorization\n",
        "text_vectorization = TextVectorization()\n",
        "\n",
        "#Будем использовать метод adapt(), который автоматически адаптируется к данным и\n",
        "# позволяет выявить наиболее часто встречающиеся слова и их векторное представление.\n",
        "text_vectorization.adapt(X_example)\n",
        "text_vectorization(X_example)"
      ],
      "metadata": {
        "colab": {
          "base_uri": "https://localhost:8080/"
        },
        "id": "QhRJNstabRzz",
        "outputId": "c6e49416-e588-46ef-8a9e-f42eeb12f2ca"
      },
      "execution_count": 14,
      "outputs": [
        {
          "output_type": "execute_result",
          "data": {
            "text/plain": [
              "<tf.Tensor: shape=(2, 8), dtype=int64, numpy=\n",
              "array([[ 9, 12,  3,  3,  7, 10,  8,  2],\n",
              "       [ 2,  4,  5,  6, 11,  0,  0,  0]])>"
            ]
          },
          "metadata": {},
          "execution_count": 14
        }
      ]
    },
    {
      "cell_type": "code",
      "source": [
        "#Теперь наш текст, который мы видели выше, представляет собой массив с числами.\n",
        "#В таком формате мы и будем передавать наши данные в нейросеть."
      ],
      "metadata": {
        "id": "cfz4tEJibUA6"
      },
      "execution_count": 15,
      "outputs": []
    },
    {
      "cell_type": "code",
      "source": [
        "#Давайте теперь приведем не только этот текст, но и все тексты нашего датасета\n",
        "# в такой формат.\n",
        "\n",
        "#Определим максимальный размер словаря для преобразования (то есть количество\n",
        "# уникальных слов, которое мы хотим учесть при обучении модели)\n",
        "max_vocabulary_size = 3000\n",
        "#Определим количество \"корзин\" (buckets), которые будут использоваться для\n",
        "# представления неизвестных слов (OOV - Out of Vocabulary). Благодаря этому методу\n",
        "# сеть сможет обрабатывать слова, которые не были включены в словарь.\n",
        "n_oov_buckets = 100\n",
        "\n",
        "#Теперь создадим переменную которая содержит только тексты из обучающего набора данных.\n",
        "# Используем метод map, чтобы извлечь только тексты и игнорировать метки (label) отзывов.\n",
        "sample_review_batches = train_set.map(lambda review, label: review)\n",
        "\n",
        "#Объединим все тексты в 1 большой массив sample_reviews.\n",
        "sample_reviews = np.concatenate(list(sample_review_batches.as_numpy_iterator()),\n",
        "                                axis=0)\n",
        "\n",
        "#И запустим процесс векторизации, где output_sequence_length - длина выходной последовательности\n",
        "# которую мы получим после векторизации текста.\n",
        "text_vectorization = TextVectorization(max_tokens=max_vocabulary_size,\n",
        "                                       standardize='lower_and_strip_punctuation',\n",
        "                                       output_sequence_length=n_oov_buckets,\n",
        "                                       input_shape=[])\n",
        "text_vectorization.adapt(sample_reviews)"
      ],
      "metadata": {
        "id": "t_nAKOEWbWNa"
      },
      "execution_count": 16,
      "outputs": []
    },
    {
      "cell_type": "code",
      "source": [
        "#Давайте теперь посмотрим что получилось\n",
        "text_vectorization(X_example)"
      ],
      "metadata": {
        "colab": {
          "base_uri": "https://localhost:8080/"
        },
        "id": "di0-wnfebYv_",
        "outputId": "1bc8edd5-304f-4395-cfad-7128ef7f02ba"
      },
      "execution_count": 17,
      "outputs": [
        {
          "output_type": "execute_result",
          "data": {
            "text/plain": [
              "<tf.Tensor: shape=(2, 100), dtype=int64, numpy=\n",
              "array([[ 30,   4,  85,  85,  18,  10, 434,   9,   0,   0,   0,   0,   0,\n",
              "          0,   0,   0,   0,   0,   0,   0,   0,   0,   0,   0,   0,   0,\n",
              "          0,   0,   0,   0,   0,   0,   0,   0,   0,   0,   0,   0,   0,\n",
              "          0,   0,   0,   0,   0,   0,   0,   0,   0,   0,   0,   0,   0,\n",
              "          0,   0,   0,   0,   0,   0,   0,   0,   0,   0,   0,   0,   0,\n",
              "          0,   0,   0,   0,   0,   0,   0,   0,   0,   0,   0,   0,   0,\n",
              "          0,   0,   0,   0,   0,   0,   0,   0,   0,   0,   0,   0,   0,\n",
              "          0,   0,   0,   0,   0,   0,   0,   0,   0],\n",
              "       [  9,  14, 384, 530, 242,   0,   0,   0,   0,   0,   0,   0,   0,\n",
              "          0,   0,   0,   0,   0,   0,   0,   0,   0,   0,   0,   0,   0,\n",
              "          0,   0,   0,   0,   0,   0,   0,   0,   0,   0,   0,   0,   0,\n",
              "          0,   0,   0,   0,   0,   0,   0,   0,   0,   0,   0,   0,   0,\n",
              "          0,   0,   0,   0,   0,   0,   0,   0,   0,   0,   0,   0,   0,\n",
              "          0,   0,   0,   0,   0,   0,   0,   0,   0,   0,   0,   0,   0,\n",
              "          0,   0,   0,   0,   0,   0,   0,   0,   0,   0,   0,   0,   0,\n",
              "          0,   0,   0,   0,   0,   0,   0,   0,   0]])>"
            ]
          },
          "metadata": {},
          "execution_count": 17
        }
      ]
    },
    {
      "cell_type": "code",
      "source": [
        "#Мы получили весьма разреженный тензор размером 2х100, где числа представляют\n",
        "# собой нечто иное как кодировку слов в отзыве."
      ],
      "metadata": {
        "id": "LNtpky9AbcvL"
      },
      "execution_count": 18,
      "outputs": []
    },
    {
      "cell_type": "code",
      "source": [
        "#Теперь нам необходимо преобразовать данные в мешок слов (bag of words).\n",
        "\n",
        "#Создадим соответствующий класс\n",
        "class BagOfWords(keras.layers.Layer):\n",
        "    #Объявим параметры (число токенов, тип переменных, именнованные аргументы)\n",
        "    def __init__(self, n_tokens, dtype=tf.int32, **kwargs):\n",
        "        super().__init__(dtype=dtype, **kwargs)\n",
        "        self.n_tokens = n_tokens\n",
        "    #Создадим функцию для приема input-ов и one-hot энкодинга\n",
        "    def call(self, inputs):\n",
        "        #преобразуем значения в one-hot кодировку, где каждое значение представляется\n",
        "        # в виде вектора с n_tokens элементами, и элемент с индексом inputs[i] равен 1,\n",
        "        # а все остальные элементы равны 0. Это позволит представить каждый токен в виде\n",
        "        # уникального вектора.\n",
        "        one_hot = tf.one_hot(inputs, self.n_tokens)\n",
        "        #вычислим сумму one_hot представлений по оси 1 (вертикальной), используя функцию\n",
        "        # tf.reduce_sum, которая складывает все элементы вдоль указанной оси. Результатом\n",
        "        # операции будет вектор сумм всех элементов каждого one_hot представления.\n",
        "        return tf.reduce_sum(one_hot, axis=1)[:, 1:]"
      ],
      "metadata": {
        "id": "D3Yz0M-7bfqD"
      },
      "execution_count": 19,
      "outputs": []
    },
    {
      "cell_type": "code",
      "source": [
        "#Проверим работу класса и его функций.\n",
        "bag_of_words = BagOfWords(n_tokens=4)\n",
        "simple_example = tf.constant([[1, 3, 1, 0, 0], [2, 2, 0, 0, 0]])\n",
        "bag_of_words(simple_example)"
      ],
      "metadata": {
        "colab": {
          "base_uri": "https://localhost:8080/"
        },
        "id": "0KTWAiwVbh0U",
        "outputId": "19783d63-e029-46de-8e98-618c220eef59"
      },
      "execution_count": 20,
      "outputs": [
        {
          "output_type": "execute_result",
          "data": {
            "text/plain": [
              "<tf.Tensor: shape=(2, 3), dtype=float32, numpy=\n",
              "array([[2., 0., 1.],\n",
              "       [0., 2., 0.]], dtype=float32)>"
            ]
          },
          "metadata": {},
          "execution_count": 20
        }
      ]
    },
    {
      "cell_type": "code",
      "source": [
        "#Создадим переменную n_tokens, которая равна сумме трех других переменных:\n",
        "# max_vocabulary_size, n_oov_buckets и 1. Единица - это наши паддинги, для выравнивания\n",
        "# shape тензоров, max_vocabulary_size - это число, которое представляет размер словаря,\n",
        "# то есть количество уникальных слов, которые будут использоваться, а n_oov_buckets - это\n",
        "# количество \"темных ячеек вне словаря\" - они позволят модели обрабатывать слова, которых\n",
        "# нет в словаре.\n",
        "n_tokens = max_vocabulary_size + n_oov_buckets + 1\n",
        "\n",
        "#И положим все эти токены в наш мешок слов.\n",
        "bag_of_words = BagOfWords(n_tokens)"
      ],
      "metadata": {
        "id": "OvDW_01vbkJj"
      },
      "execution_count": 21,
      "outputs": []
    },
    {
      "cell_type": "code",
      "source": [
        "#Ок. Теперь пора переходить к обучению нейросети.\n",
        "\n",
        "#Для начала укажем параметры будущей сетки.\n",
        "model = keras.models.Sequential([  #секвентальная модель от Keras\n",
        "    text_vectorization,\n",
        "    bag_of_words,\n",
        "    keras.layers.Dense(200, activation=\"relu\", #1й слой - 200 нейронов, функция активации ReLu\n",
        "                       kernel_regularizer=keras.regularizers.l2(0.001)), #регуляризация L2 (для избежания переобучения)\n",
        "    keras.layers.Dropout(0.2),                 #слой дропаута для лучшей сходимости\n",
        "    keras.layers.Dense(100, activation=\"relu\", #2й слой - 100 нейронов, активация через ReLu\n",
        "                       kernel_regularizer=keras.regularizers.l2(0.001)), #также регуляризация через L2\n",
        "    keras.layers.Dense(1, activation=\"sigmoid\")  #финишный слой с 1 нейроном, активация функцией сигмоиды\n",
        "])\n",
        "\n",
        "#Собираем модель. В качестве функции потерь будем использовать бинарную кросс-энтропию,\n",
        "# оптимизатор - \"nadam\", метрика качества - \"accuracy\".\n",
        "model.compile(loss=\"binary_crossentropy\", optimizer=\"nadam\", metrics=[\"accuracy\"])\n",
        "\n",
        "#Добавим функцию ранней остановки. В случае если модель не улучшается 3 эпохи\n",
        "# подряд - то остановить обучение.\n",
        "early_stopping = keras.callbacks.EarlyStopping(patience=3, restore_best_weights=True)"
      ],
      "metadata": {
        "id": "YAepr9cdbmlH"
      },
      "execution_count": 22,
      "outputs": []
    },
    {
      "cell_type": "code",
      "source": [
        "#Запускаем обучение модели. Будем использовать 12 эпох\n",
        "model.fit(train_set, epochs=12, validation_data=valid_set, callbacks=[early_stopping])"
      ],
      "metadata": {
        "colab": {
          "base_uri": "https://localhost:8080/"
        },
        "id": "WzkwoZtdbpnL",
        "outputId": "b54be641-983c-4b59-d9a1-266de50bbe40"
      },
      "execution_count": 23,
      "outputs": [
        {
          "output_type": "stream",
          "name": "stdout",
          "text": [
            "Epoch 1/12\n",
            "782/782 [==============================] - 55s 69ms/step - loss: 0.6300 - accuracy: 0.7771 - val_loss: 0.5521 - val_accuracy: 0.7946\n",
            "Epoch 2/12\n",
            "782/782 [==============================] - 53s 68ms/step - loss: 0.5201 - accuracy: 0.8149 - val_loss: 0.5672 - val_accuracy: 0.7794\n",
            "Epoch 3/12\n",
            "782/782 [==============================] - 49s 62ms/step - loss: 0.4924 - accuracy: 0.8318 - val_loss: 0.5282 - val_accuracy: 0.7986\n",
            "Epoch 4/12\n",
            "782/782 [==============================] - 49s 62ms/step - loss: 0.4733 - accuracy: 0.8452 - val_loss: 0.5332 - val_accuracy: 0.8052\n",
            "Epoch 5/12\n",
            "782/782 [==============================] - 49s 62ms/step - loss: 0.4528 - accuracy: 0.8606 - val_loss: 0.5577 - val_accuracy: 0.8006\n",
            "Epoch 6/12\n",
            "782/782 [==============================] - 49s 62ms/step - loss: 0.4348 - accuracy: 0.8751 - val_loss: 0.5989 - val_accuracy: 0.7936\n"
          ]
        },
        {
          "output_type": "execute_result",
          "data": {
            "text/plain": [
              "<keras.callbacks.History at 0x7baa2aa81330>"
            ]
          },
          "metadata": {},
          "execution_count": 23
        }
      ]
    },
    {
      "cell_type": "code",
      "source": [
        "#Итак, обучение было остановлено на 5й эпохе, потому что последующие не приводили\n",
        "# к улучшениям. Тем не менее мы получили модель, которая весьма хорошо предсказывает\n",
        "# оценки по отзывам в imdb: 86% на обучаемой выборке и 80.5% - на тестовой."
      ],
      "metadata": {
        "id": "DEeTkS4-br_z"
      },
      "execution_count": 24,
      "outputs": []
    },
    {
      "cell_type": "code",
      "source": [
        "#Теперь осталось проверить нашу модель в деле.\n",
        "#Создадим интерактивную оболочку с окном где можно писать отзыв о фильме,\n",
        "# а наша модель будет автоматически выставлять оценки.\n",
        "import ipywidgets as widgets\n",
        "from IPython.display import display\n",
        "\n",
        "#Создаем функцию отображения окна и кнопки\n",
        "def predict_review_rating(model):\n",
        "    review_text = widgets.Textarea(description='Отзыв о фильме:', rows=5)\n",
        "    button = widgets.Button(description='Предсказать рейтинг')\n",
        "    output = widgets.Output()\n",
        "\n",
        "    def on_button_clicked(b):\n",
        "        with output:\n",
        "            rating = model.predict([review_text.value])[0]\n",
        "            print('Прогнозный рейтинг:', rating*10) #в нейросетке шкала от 0 до 1\n",
        "            if rating >= 0.7:\n",
        "              print('Положительный отзыв')\n",
        "            elif 0.45 <= rating < 0.7:\n",
        "              print('Нейтральный отзыв')\n",
        "            else:\n",
        "              print('Отрицательный отзыв')\n",
        "\n",
        "    #вывод результатов на экран\n",
        "    button.on_click(on_button_clicked)\n",
        "    display(review_text, button, output)"
      ],
      "metadata": {
        "id": "51zpw_tMbwT_"
      },
      "execution_count": 57,
      "outputs": []
    },
    {
      "cell_type": "code",
      "source": [
        "predict_review_rating(model)"
      ],
      "metadata": {
        "colab": {
          "base_uri": "https://localhost:8080/",
          "height": 174,
          "referenced_widgets": [
            "5440d6d914cd4790983f0cb2344ba91a",
            "4ed30074340e44e381eea08b16439c2d",
            "52e24246a37b4f5d80f1ad17b4463b8b",
            "664d745f77cb41d3ab20dca5ef2d2dea",
            "212871c94d4a4deba9ab82cc950c298a",
            "72246a3779b441e3a25ec1d8c8d47e3f",
            "a4b4cff34e834642bf8fc08c91b0f524",
            "a66d64ec285446b08ae12b14aa8ad381"
          ]
        },
        "id": "4GyBmD7GdLXH",
        "outputId": "5ab70f84-40ea-4043-c66d-87ea448833c7"
      },
      "execution_count": 58,
      "outputs": [
        {
          "output_type": "display_data",
          "data": {
            "text/plain": [
              "Textarea(value='', description='Отзыв о фильме:', rows=5)"
            ],
            "application/vnd.jupyter.widget-view+json": {
              "version_major": 2,
              "version_minor": 0,
              "model_id": "5440d6d914cd4790983f0cb2344ba91a"
            }
          },
          "metadata": {}
        },
        {
          "output_type": "display_data",
          "data": {
            "text/plain": [
              "Button(description='Предсказать рейтинг', style=ButtonStyle())"
            ],
            "application/vnd.jupyter.widget-view+json": {
              "version_major": 2,
              "version_minor": 0,
              "model_id": "664d745f77cb41d3ab20dca5ef2d2dea"
            }
          },
          "metadata": {}
        },
        {
          "output_type": "display_data",
          "data": {
            "text/plain": [
              "Output()"
            ],
            "application/vnd.jupyter.widget-view+json": {
              "version_major": 2,
              "version_minor": 0,
              "model_id": "a4b4cff34e834642bf8fc08c91b0f524"
            }
          },
          "metadata": {}
        }
      ]
    },
    {
      "cell_type": "code",
      "source": [
        "predict_review_rating(model)"
      ],
      "metadata": {
        "colab": {
          "base_uri": "https://localhost:8080/",
          "height": 174,
          "referenced_widgets": [
            "41e1a4d130864c1f894639fe14c1ddc0",
            "42732944c8344d1d85f35af29c678fba",
            "cc7833d909724e2e909741eef23db951",
            "6fd12b5a975c4119b0e07803fb083ac1",
            "526097a24f3f442ab1d7808addbbe59c",
            "956e4317fd8d41519aeeb445d69886b5",
            "8939dda013eb4cd3bbd174e08f99e3e6",
            "284c4240e59949f29878944a6f8acc1a"
          ]
        },
        "id": "08E7HTWodXVk",
        "outputId": "0083d67a-398c-4565-e097-7219a97846ee"
      },
      "execution_count": 59,
      "outputs": [
        {
          "output_type": "display_data",
          "data": {
            "text/plain": [
              "Textarea(value='', description='Отзыв о фильме:', rows=5)"
            ],
            "application/vnd.jupyter.widget-view+json": {
              "version_major": 2,
              "version_minor": 0,
              "model_id": "41e1a4d130864c1f894639fe14c1ddc0"
            }
          },
          "metadata": {}
        },
        {
          "output_type": "display_data",
          "data": {
            "text/plain": [
              "Button(description='Предсказать рейтинг', style=ButtonStyle())"
            ],
            "application/vnd.jupyter.widget-view+json": {
              "version_major": 2,
              "version_minor": 0,
              "model_id": "6fd12b5a975c4119b0e07803fb083ac1"
            }
          },
          "metadata": {}
        },
        {
          "output_type": "display_data",
          "data": {
            "text/plain": [
              "Output()"
            ],
            "application/vnd.jupyter.widget-view+json": {
              "version_major": 2,
              "version_minor": 0,
              "model_id": "8939dda013eb4cd3bbd174e08f99e3e6"
            }
          },
          "metadata": {}
        }
      ]
    },
    {
      "cell_type": "code",
      "source": [
        "predict_review_rating(model)"
      ],
      "metadata": {
        "colab": {
          "base_uri": "https://localhost:8080/",
          "height": 174,
          "referenced_widgets": [
            "398e398a25294f89a7a3494b1a6b50dc",
            "23e50a7d2d9c4f0c80f35d4beda2013b",
            "d680438b01d743309eb70061be468d6e",
            "057309db9ec642828e931f3b16c81449",
            "d6b79178c26d49daa9c801bc73a61245",
            "ad2276b945ed4803be359f344186a271",
            "050dd0815886447786a069902e0db13f",
            "7e50d105192f468399e43d5c057d0923"
          ]
        },
        "id": "xbia4jkLd0Vc",
        "outputId": "fd436223-96e0-41f1-c7a3-1579622fb3a7"
      },
      "execution_count": 60,
      "outputs": [
        {
          "output_type": "display_data",
          "data": {
            "text/plain": [
              "Textarea(value='', description='Отзыв о фильме:', rows=5)"
            ],
            "application/vnd.jupyter.widget-view+json": {
              "version_major": 2,
              "version_minor": 0,
              "model_id": "398e398a25294f89a7a3494b1a6b50dc"
            }
          },
          "metadata": {}
        },
        {
          "output_type": "display_data",
          "data": {
            "text/plain": [
              "Button(description='Предсказать рейтинг', style=ButtonStyle())"
            ],
            "application/vnd.jupyter.widget-view+json": {
              "version_major": 2,
              "version_minor": 0,
              "model_id": "057309db9ec642828e931f3b16c81449"
            }
          },
          "metadata": {}
        },
        {
          "output_type": "display_data",
          "data": {
            "text/plain": [
              "Output()"
            ],
            "application/vnd.jupyter.widget-view+json": {
              "version_major": 2,
              "version_minor": 0,
              "model_id": "050dd0815886447786a069902e0db13f"
            }
          },
          "metadata": {}
        }
      ]
    },
    {
      "cell_type": "code",
      "source": [
        "print()"
      ],
      "metadata": {
        "colab": {
          "base_uri": "https://localhost:8080/"
        },
        "id": "ofi-5cNNmTQ3",
        "outputId": "443e0e73-d8d7-4406-9827-56229150e1d3"
      },
      "execution_count": 66,
      "outputs": [
        {
          "output_type": "stream",
          "name": "stdout",
          "text": [
            "\n"
          ]
        }
      ]
    }
  ]
}